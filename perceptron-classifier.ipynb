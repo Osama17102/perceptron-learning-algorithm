{
 "cells": [
  {
   "cell_type": "markdown",
   "metadata": {},
   "source": [
    "# PERCEPTRON"
   ]
  },
  {
   "cell_type": "markdown",
   "metadata": {},
   "source": [
    "##### LOAD THE DATA"
   ]
  },
  {
   "cell_type": "code",
   "execution_count": 1,
   "metadata": {},
   "outputs": [
    {
     "data": {
      "text/plain": [
       "array([[ 5.1,  3.5,  0. ],\n",
       "       [ 4.9,  3. ,  0. ],\n",
       "       [ 4.7,  3.2,  0. ],\n",
       "       [ 4.9,  3. ,  0. ],\n",
       "       [ 4.6,  3.1,  0. ],\n",
       "       [ 4.6,  3.1,  0. ],\n",
       "       [ 4.7,  3.2,  0. ],\n",
       "       [ 4.6,  3.4,  0. ],\n",
       "       [ 5.4,  3.9,  0. ],\n",
       "       [ 5. ,  3.6,  0. ],\n",
       "       [ 4.7,  3.2,  0. ],\n",
       "       [ 4.7,  3.2,  0. ],\n",
       "       [ 5.1,  3.5,  0. ],\n",
       "       [ 4.4,  2.9,  0. ],\n",
       "       [ 5. ,  3.4,  0. ],\n",
       "       [ 5.4,  3.7,  0. ],\n",
       "       [ 4.8,  3.4,  0. ],\n",
       "       [ 4.8,  3. ,  0. ],\n",
       "       [ 5.8,  4. ,  0. ],\n",
       "       [ 4.8,  3.4,  0. ],\n",
       "       [ 4.4,  2.9,  0. ],\n",
       "       [ 5.1,  3.5,  0. ],\n",
       "       [ 5.8,  4. ,  0. ],\n",
       "       [ 4.4,  2.9,  0. ],\n",
       "       [ 5.5,  2.3,  1. ],\n",
       "       [ 5.4,  3.9,  0. ],\n",
       "       [ 5.7,  3.8,  0. ],\n",
       "       [ 5.4,  3.9,  0. ],\n",
       "       [ 5.4,  3.9,  0. ],\n",
       "       [ 5.4,  3.9,  0. ],\n",
       "       [ 5.7,  4.4,  0. ],\n",
       "       [ 4.8,  3.4,  0. ],\n",
       "       [ 5.7,  2.8,  1. ],\n",
       "       [ 4.7,  3.2,  0. ],\n",
       "       [ 5.4,  3.7,  0. ],\n",
       "       [ 4.9,  3.1,  0. ],\n",
       "       [ 5.2,  2.7,  1. ],\n",
       "       [ 4.8,  3.4,  0. ],\n",
       "       [ 5.7,  2.8,  1. ],\n",
       "       [ 4.8,  3. ,  0. ],\n",
       "       [ 6.5,  2.8,  1. ],\n",
       "       [ 4.8,  3.4,  0. ],\n",
       "       [ 5.2,  2.7,  1. ],\n",
       "       [ 5.1,  3.5,  0. ],\n",
       "       [ 6.6,  2.9,  1. ],\n",
       "       [ 4.6,  3.4,  0. ],\n",
       "       [ 7. ,  3.2,  1. ],\n",
       "       [ 6.4,  3.2,  1. ],\n",
       "       [ 4.3,  3. ,  0. ],\n",
       "       [ 5.4,  3.9,  0. ],\n",
       "       [ 5.6,  2.5,  1. ],\n",
       "       [ 4.3,  3. ,  0. ],\n",
       "       [ 5.8,  4. ,  0. ],\n",
       "       [ 4.6,  3.4,  0. ],\n",
       "       [ 6.1,  2.8,  1. ],\n",
       "       [ 5.8,  2.7,  1. ],\n",
       "       [ 5.1,  3.3,  0. ],\n",
       "       [ 5. ,  3.6,  0. ],\n",
       "       [ 5.6,  2.9,  1. ],\n",
       "       [ 4.8,  3.1,  0. ],\n",
       "       [ 5. ,  3.4,  0. ],\n",
       "       [ 5.8,  2.7,  1. ],\n",
       "       [ 6.9,  3.1,  1. ],\n",
       "       [ 6.7,  3.1,  1. ],\n",
       "       [ 6.4,  3.2,  1. ],\n",
       "       [ 5.8,  4. ,  0. ],\n",
       "       [ 4.9,  3. ,  0. ],\n",
       "       [ 6.3,  3.3,  1. ],\n",
       "       [ 5.4,  3.4,  0. ],\n",
       "       [ 4.8,  3. ,  0. ],\n",
       "       [ 5.6,  3. ,  1. ],\n",
       "       [ 5.1,  3.3,  0. ],\n",
       "       [ 5.9,  3.2,  1. ],\n",
       "       [ 5.1,  3.8,  0. ],\n",
       "       [ 4.3,  3. ,  0. ],\n",
       "       [ 5.1,  3.8,  0. ],\n",
       "       [ 5.2,  2.7,  1. ],\n",
       "       [ 5. ,  3.2,  0. ],\n",
       "       [ 5.2,  3.5,  0. ],\n",
       "       [ 5. ,  3.6,  0. ],\n",
       "       [ 5.6,  3. ,  1. ],\n",
       "       [ 5.5,  4.2,  0. ],\n",
       "       [ 5. ,  3.5,  0. ],\n",
       "       [ 6.1,  2.8,  1. ],\n",
       "       [ 6.5,  2.8,  1. ],\n",
       "       [ 5.1,  3.5,  0. ],\n",
       "       [ 6. ,  2.2,  1. ],\n",
       "       [ 5.2,  3.4,  0. ],\n",
       "       [ 4.9,  3.1,  0. ],\n",
       "       [ 4.4,  3.2,  0. ],\n",
       "       [ 6.3,  3.3,  1. ],\n",
       "       [ 4.6,  3.2,  0. ],\n",
       "       [ 4.6,  3.1,  0. ],\n",
       "       [ 5.1,  3.5,  0. ],\n",
       "       [ 5.1,  3.8,  0. ],\n",
       "       [ 4.9,  3. ,  0. ],\n",
       "       [ 5. ,  2. ,  1. ],\n",
       "       [ 5.2,  2.7,  1. ]])"
      ]
     },
     "execution_count": 1,
     "metadata": {},
     "output_type": "execute_result"
    }
   ],
   "source": [
    "import numpy as np\n",
    "\n",
    "# each row contains Sepal length in cm, Sepal width in nm and type (0|1)\n",
    "# 0: Iris-setosa | 1: Iris-versicolor\n",
    "data = np.loadtxt('iris-data.csv', delimiter=',')\n",
    "data"
   ]
  },
  {
   "cell_type": "markdown",
   "metadata": {},
   "source": [
    "##### VISUALIZE THE DATA"
   ]
  },
  {
   "cell_type": "code",
   "execution_count": 2,
   "metadata": {},
   "outputs": [
    {
     "data": {
      "image/png": "[encoded data removed]",
      "text/plain": [
       "<matplotlib.figure.Figure at 0x15631dccb00>"
      ]
     },
     "metadata": {},
     "output_type": "display_data"
    }
   ],
   "source": [
    "%matplotlib inline\n",
    "import matplotlib.pyplot as plt\n",
    "\n",
    "plt.grid()\n",
    "\n",
    "for i in range(len(data)) :\n",
    "    point = data[i]\n",
    "    if point[2] == 0 :\n",
    "        color = 'r'  # setosas will appear in blue\n",
    "    else:\n",
    "        color = 'b'  # versicolor will appear in red\n",
    "    \n",
    "    plt.scatter(point[0], point[1], c=color);"
   ]
  },
  {
   "cell_type": "code",
   "execution_count": 3,
   "metadata": {},
   "outputs": [
    {
     "data": {
      "text/html": [
       "<img src=\"https://farm9.staticflickr.com/8383/8675226902_e72273713f_k.jpg\" width=\"400\" height=\"400\"/>"
      ],
      "text/plain": [
       "<IPython.core.display.Image object>"
      ]
     },
     "execution_count": 3,
     "metadata": {},
     "output_type": "execute_result"
    }
   ],
   "source": [
    "from IPython.display import Image\n",
    "from IPython.core.display import HTML \n",
    "\n",
    "Image(url= 'https://farm9.staticflickr.com/8383/8675226902_e72273713f_k.jpg', width=400, height=400)"
   ]
  },
  {
   "cell_type": "markdown",
   "metadata": {},
   "source": [
    "##### DEFINE TRAINING AND TESTING SETS"
   ]
  },
  {
   "cell_type": "code",
   "execution_count": 4,
   "metadata": {},
   "outputs": [],
   "source": [
    "# split data into training and testing sets\n",
    "train_data = data[:70]   # 70%\n",
    "test_data = data[70:]    # 30%"
   ]
  },
  {
   "cell_type": "markdown",
   "metadata": {},
   "source": [
    "##### DEFINE ACTIVATION FUNCTION AND ITS DERIVATIVE"
   ]
  },
  {
   "cell_type": "code",
   "execution_count": 5,
   "metadata": {},
   "outputs": [
    {
     "data": {
      "image/png": "[encoded data removed]",
      "text/plain": [
       "<matplotlib.figure.Figure at 0x15632ddc8d0>"
      ]
     },
     "metadata": {},
     "output_type": "display_data"
    }
   ],
   "source": [
    "def sigmoid(x) :\n",
    "    return 1/(1 + np.exp(-x))\n",
    "\n",
    "def sigmoid_p(x) :\n",
    "    return sigmoid(x) * (1-sigmoid(x))\n",
    "\n",
    "lin = np.linspace(-10, 10, 100)\n",
    "plt.plot(lin, sigmoid(lin), c='r')\n",
    "plt.plot(lin, sigmoid_p(lin), c='b');"
   ]
  },
  {
   "cell_type": "markdown",
   "metadata": {},
   "source": [
    "##### TRAIN THE MODEL"
   ]
  },
  {
   "cell_type": "code",
   "execution_count": 6,
   "metadata": {},
   "outputs": [
    {
     "name": "stdout",
     "output_type": "stream",
     "text": [
      "Cost: 0.97803\tRegression: 1.08784(X1) + -0.42207(X2) + 0.66150\n",
      "Cost: 0.00007\tRegression: 4.62993(X1) + -7.94335(X2) + -0.83523\n",
      "Cost: 0.00000\tRegression: 5.30276(X1) + -9.11686(X2) + -1.06804\n",
      "Cost: 0.00002\tRegression: 5.80513(X1) + -9.81304(X2) + -1.17997\n",
      "Cost: 0.00000\tRegression: 6.09216(X1) + -10.36841(X2) + -1.28042\n",
      "Cost: 0.00474\tRegression: 6.32037(X1) + -10.81397(X2) + -1.35682\n",
      "Cost: 0.00106\tRegression: 6.54085(X1) + -11.13072(X2) + -1.40807\n",
      "Cost: 0.00000\tRegression: 6.73232(X1) + -11.40151(X2) + -1.44892\n",
      "Cost: 0.00000\tRegression: 6.88853(X1) + -11.66445(X2) + -1.48790\n",
      "Cost: 0.00000\tRegression: 7.01594(X1) + -11.89999(X2) + -1.52679\n",
      "Cost: 0.00004\tRegression: 7.12111(X1) + -12.11745(X2) + -1.56127\n",
      "Cost: 0.00000\tRegression: 7.22322(X1) + -12.30871(X2) + -1.59089\n",
      "Cost: 0.00056\tRegression: 7.34791(X1) + -12.46281(X2) + -1.61237\n",
      "Cost: 0.00000\tRegression: 7.41975(X1) + -12.63193(X2) + -1.64063\n",
      "Cost: 0.00000\tRegression: 7.53350(X1) + -12.76203(X2) + -1.65641\n",
      "Cost: 0.00000\tRegression: 7.61249(X1) + -12.89421(X2) + -1.67556\n",
      "Cost: 0.00000\tRegression: 7.67858(X1) + -13.03054(X2) + -1.69683\n",
      "Cost: 0.00000\tRegression: 7.73175(X1) + -13.15741(X2) + -1.71666\n",
      "Cost: 0.00009\tRegression: 7.80791(X1) + -13.26287(X2) + -1.73091\n",
      "Cost: 0.00059\tRegression: 7.86727(X1) + -13.36730(X2) + -1.74775\n",
      "Cost: 0.00031\tRegression: 7.93903(X1) + -13.46040(X2) + -1.75955\n",
      "Cost: 0.00001\tRegression: 7.98258(X1) + -13.55768(X2) + -1.77506\n",
      "Cost: 0.00000\tRegression: 8.05437(X1) + -13.63958(X2) + -1.78518\n",
      "Cost: 0.00000\tRegression: 8.08374(X1) + -13.73819(X2) + -1.80182\n",
      "Cost: 0.00000\tRegression: 8.12638(X1) + -13.82737(X2) + -1.81512\n",
      "Cost: 0.00000\tRegression: 8.19700(X1) + -13.89507(X2) + -1.82237\n",
      "Cost: 0.00000\tRegression: 8.22212(X1) + -13.98412(X2) + -1.83742\n",
      "Cost: 0.00000\tRegression: 8.27746(X1) + -14.05052(X2) + -1.84566\n",
      "Cost: 0.00156\tRegression: 8.31135(X1) + -14.12933(X2) + -1.85834\n",
      "Cost: 0.00000\tRegression: 8.35749(X1) + -14.19956(X2) + -1.86766\n",
      "Cost: 0.00000\tRegression: 8.42011(X1) + -14.25802(X2) + -1.87339\n",
      "Cost: 0.00000\tRegression: 8.45791(X1) + -14.32090(X2) + -1.88230\n",
      "Cost: 0.00000\tRegression: 8.49306(X1) + -14.38471(X2) + -1.89173\n",
      "Cost: 0.00000\tRegression: 8.51196(X1) + -14.45154(X2) + -1.90275\n",
      "Cost: 0.00000\tRegression: 8.55287(X1) + -14.50654(X2) + -1.90972\n",
      "Cost: 0.00074\tRegression: 8.57850(X1) + -14.56773(X2) + -1.91952\n",
      "Cost: 0.00000\tRegression: 8.62648(X1) + -14.62199(X2) + -1.92545\n",
      "Cost: 0.00000\tRegression: 8.64923(X1) + -14.68174(X2) + -1.93452\n",
      "Cost: 0.00000\tRegression: 8.69679(X1) + -14.72919(X2) + -1.93901\n",
      "Cost: 0.00000\tRegression: 8.71729(X1) + -14.78805(X2) + -1.94883\n",
      "Cost: 0.00000\tRegression: 8.75004(X1) + -14.83640(X2) + -1.95499\n",
      "Cost: 0.00000\tRegression: 8.78225(X1) + -14.88563(X2) + -1.96149\n",
      "Cost: 0.00000\tRegression: 8.80587(X1) + -14.93309(X2) + -1.96877\n",
      "Cost: 0.00000\tRegression: 8.84392(X1) + -14.97681(X2) + -1.97360\n",
      "Cost: 0.00000\tRegression: 8.85096(X1) + -15.03272(X2) + -1.98360\n",
      "Cost: 0.00000\tRegression: 8.88737(X1) + -15.07308(X2) + -1.98775\n",
      "Cost: 0.00000\tRegression: 8.89845(X1) + -15.12830(X2) + -1.99699\n",
      "Cost: 0.00000\tRegression: 8.93618(X1) + -15.16662(X2) + -2.00066\n",
      "Cost: 0.00000\tRegression: 8.96988(X1) + -15.20587(X2) + -2.00511\n",
      "Cost: 0.00000\tRegression: 9.00229(X1) + -15.24513(X2) + -2.00933\n",
      "Cost: 0.00017\tRegression: 9.01874(X1) + -15.29169(X2) + -2.01650\n",
      "Cost: 0.00000\tRegression: 9.04716(X1) + -15.33049(X2) + -2.02118\n",
      "Cost: 0.00055\tRegression: 9.06333(X1) + -15.37224(X2) + -2.02760\n",
      "Cost: 0.00000\tRegression: 9.09352(X1) + -15.40574(X2) + -2.03103\n",
      "Cost: 0.00000\tRegression: 9.09673(X1) + -15.45334(X2) + -2.03988\n",
      "Cost: 0.00014\tRegression: 9.13557(X1) + -15.48137(X2) + -2.04126\n",
      "Cost: 0.00052\tRegression: 9.15179(X1) + -15.52069(X2) + -2.04711\n",
      "Cost: 0.00000\tRegression: 9.18718(X1) + -15.54928(X2) + -2.04902\n",
      "Cost: 0.00000\tRegression: 9.18753(X1) + -15.59759(X2) + -2.05769\n",
      "Cost: 0.00000\tRegression: 9.20996(X1) + -15.63231(X2) + -2.06189\n",
      "Cost: 0.00064\tRegression: 9.23444(X1) + -15.66413(X2) + -2.06548\n",
      "Cost: 0.00008\tRegression: 9.26118(X1) + -15.69443(X2) + -2.06880\n",
      "Cost: 0.00000\tRegression: 9.27102(X1) + -15.73391(X2) + -2.07517\n",
      "Cost: 0.00000\tRegression: 9.28070(X1) + -15.77274(X2) + -2.08146\n",
      "Cost: 0.00000\tRegression: 9.32007(X1) + -15.79364(X2) + -2.08163\n",
      "Cost: 0.00000\tRegression: 9.33786(X1) + -15.82677(X2) + -2.08608\n",
      "Cost: 0.00000\tRegression: 9.35004(X1) + -15.86307(X2) + -2.09173\n",
      "Cost: 0.00000\tRegression: 9.36184(X1) + -15.89632(X2) + -2.09695\n",
      "Cost: 0.00000\tRegression: 9.38699(X1) + -15.92197(X2) + -2.09939\n",
      "Cost: 0.00000\tRegression: 9.40987(X1) + -15.95071(X2) + -2.10261\n",
      "Cost: 0.00006\tRegression: 9.41354(X1) + -15.98680(X2) + -2.10903\n",
      "Cost: 0.00000\tRegression: 9.43366(X1) + -16.01229(X2) + -2.11199\n",
      "Cost: 0.00000\tRegression: 9.46345(X1) + -16.03219(X2) + -2.11295\n",
      "Cost: 0.00000\tRegression: 9.46502(X1) + -16.06968(X2) + -2.11965\n",
      "Cost: 0.00000\tRegression: 9.49449(X1) + -16.08977(X2) + -2.12068\n",
      "Cost: 0.00000\tRegression: 9.51413(X1) + -16.11311(X2) + -2.12310\n",
      "Cost: 0.00000\tRegression: 9.52027(X1) + -16.14426(X2) + -2.12813\n",
      "Cost: 0.00015\tRegression: 9.53791(X1) + -16.16873(X2) + -2.13098\n",
      "Cost: 0.00000\tRegression: 9.54705(X1) + -16.19833(X2) + -2.13566\n",
      "Cost: 0.00000\tRegression: 9.56334(X1) + -16.22254(X2) + -2.13884\n",
      "Cost: 0.00000\tRegression: 9.58213(X1) + -16.24395(X2) + -2.14120\n",
      "Cost: 0.00000\tRegression: 9.59845(X1) + -16.26938(X2) + -2.14441\n",
      "Cost: 0.00000\tRegression: 9.60489(X1) + -16.29829(X2) + -2.14899\n",
      "Cost: 0.00000\tRegression: 9.63065(X1) + -16.31595(X2) + -2.15001\n",
      "Cost: 0.00000\tRegression: 9.64074(X1) + -16.34466(X2) + -2.15436\n",
      "Cost: 0.00000\tRegression: 9.65726(X1) + -16.36855(X2) + -2.15701\n",
      "Cost: 0.00000\tRegression: 9.66491(X1) + -16.39507(X2) + -2.16118\n",
      "Cost: 0.00000\tRegression: 9.68471(X1) + -16.41596(X2) + -2.16308\n",
      "Cost: 0.00000\tRegression: 9.69584(X1) + -16.44115(X2) + -2.16674\n",
      "Cost: 0.00001\tRegression: 9.71651(X1) + -16.45987(X2) + -2.16831\n",
      "Cost: 0.00014\tRegression: 9.71857(X1) + -16.48873(X2) + -2.17355\n",
      "Cost: 0.00000\tRegression: 9.73387(X1) + -16.51012(X2) + -2.17594\n",
      "Cost: 0.00009\tRegression: 9.74580(X1) + -16.53261(X2) + -2.17890\n",
      "Cost: 0.00000\tRegression: 9.75232(X1) + -16.55735(X2) + -2.18285\n",
      "Cost: 0.00000\tRegression: 9.77214(X1) + -16.57477(X2) + -2.18432\n",
      "Cost: 0.00000\tRegression: 9.78621(X1) + -16.59517(X2) + -2.18682\n",
      "Cost: 0.00030\tRegression: 9.79646(X1) + -16.61921(X2) + -2.19020\n",
      "Cost: 0.00000\tRegression: 9.81229(X1) + -16.63804(X2) + -2.19208\n",
      "Cost: 0.00000\tRegression: 9.81843(X1) + -16.66257(X2) + -2.19584\n",
      "Cost: 0.00000\tRegression: 9.83231(X1) + -16.68330(X2) + -2.19817\n"
     ]
    }
   ],
   "source": [
    "cost_list = []\n",
    "learning_rate = 0.2\n",
    "epoch = 10\n",
    "\n",
    "# iniciate the weights and the bias with random numbers\n",
    "w1 = np.random.randn()\n",
    "w2 = np.random.randn()\n",
    "b = np.random.randn()\n",
    "\n",
    "for i in range(1000000):\n",
    "    # choose a random item\n",
    "    ri = np.random.randint(len(train_data))\n",
    "    point = train_data[ri]\n",
    "    \n",
    "    z = point[0] * w1 + point[1] * w2 + b\n",
    "    prediction = sigmoid(z)\n",
    "    \n",
    "    target = point[2]\n",
    "    \n",
    "    # cost function\n",
    "    cost = np.square(prediction - target)\n",
    "    \n",
    "    #derivative of the cost function\n",
    "    dcost_prediction = 2 * (prediction -target)\n",
    "    dprediction_dz = sigmoid_p(z)\n",
    "    \n",
    "    # the derivatives of the weights is the inputs values \n",
    "    # the derivative of the Bias is 1\n",
    "    dz_dw1 = point[0]\n",
    "    dz_dw2 = point[1]\n",
    "    dz_db = 1\n",
    "    \n",
    "    # the slope of the cost function\n",
    "    dcost_dz = dcost_prediction * dprediction_dz\n",
    "    \n",
    "    # the slope of the weights & bias\n",
    "    dcost_dw1 = dcost_dz * dz_dw1\n",
    "    dcost_dw2 = dcost_dz * dz_dw2\n",
    "    dcost_db = dcost_dz * dz_db\n",
    "    \n",
    "    # update the weights and bias\n",
    "    w1 = w1 - learning_rate * dcost_dw1\n",
    "    w2 = w2 - learning_rate * dcost_dw2\n",
    "    b = b - learning_rate * dcost_db\n",
    "    \n",
    "    # store the change on the cost through every iteration\n",
    "    if i % 10000 == 0 :\n",
    "        cost_list.append(cost)\n",
    "        \n",
    "        # print evolution of the regression model\n",
    "        print('Cost: {:06.5f}\\tRegression: {:06.5f}(X1) + {:06.5f}(X2) + {:06.5f}'.format(cost, w1, w2, b))"
   ]
  },
  {
   "cell_type": "markdown",
   "metadata": {},
   "source": [
    "##### VISUALIZE MODEL IMPROVEMENT"
   ]
  },
  {
   "cell_type": "code",
   "execution_count": 7,
   "metadata": {},
   "outputs": [
    {
     "data": {
      "image/png": "[encoded data removed]",
      "text/plain": [
       "<matplotlib.figure.Figure at 0x15632e3f898>"
      ]
     },
     "metadata": {},
     "output_type": "display_data"
    }
   ],
   "source": [
    "plt.plot(cost_list);"
   ]
  },
  {
   "cell_type": "markdown",
   "metadata": {},
   "source": [
    "##### MAKE PREDICTIONS"
   ]
  },
  {
   "cell_type": "code",
   "execution_count": 8,
   "metadata": {},
   "outputs": [
    {
     "name": "stdout",
     "output_type": "stream",
     "text": [
      "Input: 5.6, 3.0\t\tRealValue vs Prediction: 1 - 1\n",
      "Input: 5.1, 3.3\t\tRealValue vs Prediction: 0 - 0\n",
      "Input: 5.9, 3.2\t\tRealValue vs Prediction: 1 - 1\n",
      "Input: 5.1, 3.8\t\tRealValue vs Prediction: 0 - 0\n",
      "Input: 4.3, 3.0\t\tRealValue vs Prediction: 0 - 0\n",
      "Input: 5.1, 3.8\t\tRealValue vs Prediction: 0 - 0\n",
      "Input: 5.2, 2.7\t\tRealValue vs Prediction: 1 - 1\n",
      "Input: 5.0, 3.2\t\tRealValue vs Prediction: 0 - 0\n",
      "Input: 5.2, 3.5\t\tRealValue vs Prediction: 0 - 0\n",
      "Input: 5.0, 3.6\t\tRealValue vs Prediction: 0 - 0\n",
      "Input: 5.6, 3.0\t\tRealValue vs Prediction: 1 - 1\n",
      "Input: 5.5, 4.2\t\tRealValue vs Prediction: 0 - 0\n",
      "Input: 5.0, 3.5\t\tRealValue vs Prediction: 0 - 0\n",
      "Input: 6.1, 2.8\t\tRealValue vs Prediction: 1 - 1\n",
      "Input: 6.5, 2.8\t\tRealValue vs Prediction: 1 - 1\n",
      "Input: 5.1, 3.5\t\tRealValue vs Prediction: 0 - 0\n",
      "Input: 6.0, 2.2\t\tRealValue vs Prediction: 1 - 1\n",
      "Input: 5.2, 3.4\t\tRealValue vs Prediction: 0 - 0\n",
      "Input: 4.9, 3.1\t\tRealValue vs Prediction: 0 - 0\n",
      "Input: 4.4, 3.2\t\tRealValue vs Prediction: 0 - 0\n",
      "Input: 6.3, 3.3\t\tRealValue vs Prediction: 1 - 1\n",
      "Input: 4.6, 3.2\t\tRealValue vs Prediction: 0 - 0\n",
      "Input: 4.6, 3.1\t\tRealValue vs Prediction: 0 - 0\n",
      "Input: 5.1, 3.5\t\tRealValue vs Prediction: 0 - 0\n",
      "Input: 5.1, 3.8\t\tRealValue vs Prediction: 0 - 0\n",
      "Input: 4.9, 3.0\t\tRealValue vs Prediction: 0 - 0\n",
      "Input: 5.0, 2.0\t\tRealValue vs Prediction: 1 - 1\n",
      "Input: 5.2, 2.7\t\tRealValue vs Prediction: 1 - 1\n"
     ]
    }
   ],
   "source": [
    "def predictor(feature1, feature2):\n",
    "    logit = (feature1 * w1) + (feature2 * w2) + b\n",
    "    prediction = sigmoid(logit)\n",
    "    return prediction\n",
    "\n",
    "for i in range(len(test_data)) :\n",
    "    point = test_data[i]\n",
    "    prediction = predictor(point[0], point[1])\n",
    "    prediction  = int(round(prediction))\n",
    "    \n",
    "    print('Input: {}, {}\\t\\tRealValue vs Prediction: {} - {}'.format(point[0], point[1], prediction, int(point[2])))"
   ]
  },
  {
   "cell_type": "code",
   "execution_count": null,
   "metadata": {},
   "outputs": [],
   "source": []
  }
 ],
 "metadata": {
  "kernelspec": {
   "display_name": "Python 3",
   "language": "python",
   "name": "python3"
  },
  "language_info": {
   "codemirror_mode": {
    "name": "ipython",
    "version": 3
   },
   "file_extension": ".py",
   "mimetype": "text/x-python",
   "name": "python",
   "nbconvert_exporter": "python",
   "pygments_lexer": "ipython3",
   "version": "3.6.4"
  }
 },
 "nbformat": 4,
 "nbformat_minor": 2
}
