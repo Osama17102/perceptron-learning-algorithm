{
 "cells": [
  {
   "cell_type": "markdown",
   "metadata": {},
   "source": [
    "# PERCEPTRON"
   ]
  },
  {
   "cell_type": "markdown",
   "metadata": {},
   "source": [
    "##### LOAD THE DATA"
   ]
  },
  {
   "cell_type": "code",
   "execution_count": 1,
   "metadata": {
    "scrolled": true
   },
   "outputs": [
    {
     "data": {
      "text/plain": [
       "array([[5.1, 3.5, 0. ],\n",
       "       [4.9, 3. , 0. ],\n",
       "       [4.7, 3.2, 0. ],\n",
       "       [4.9, 3. , 0. ],\n",
       "       [4.6, 3.1, 0. ],\n",
       "       [4.6, 3.1, 0. ],\n",
       "       [4.7, 3.2, 0. ],\n",
       "       [4.6, 3.4, 0. ],\n",
       "       [5.4, 3.9, 0. ],\n",
       "       [5. , 3.6, 0. ],\n",
       "       [4.7, 3.2, 0. ],\n",
       "       [4.7, 3.2, 0. ],\n",
       "       [5.1, 3.5, 0. ],\n",
       "       [4.4, 2.9, 0. ],\n",
       "       [5. , 3.4, 0. ],\n",
       "       [5.4, 3.7, 0. ],\n",
       "       [4.8, 3.4, 0. ],\n",
       "       [4.8, 3. , 0. ],\n",
       "       [5.8, 4. , 0. ],\n",
       "       [4.8, 3.4, 0. ],\n",
       "       [4.4, 2.9, 0. ],\n",
       "       [5.1, 3.5, 0. ],\n",
       "       [5.8, 4. , 0. ],\n",
       "       [4.4, 2.9, 0. ],\n",
       "       [5.5, 2.3, 1. ],\n",
       "       [5.4, 3.9, 0. ],\n",
       "       [5.7, 3.8, 0. ],\n",
       "       [5.4, 3.9, 0. ],\n",
       "       [5.4, 3.9, 0. ],\n",
       "       [5.4, 3.9, 0. ],\n",
       "       [5.7, 4.4, 0. ],\n",
       "       [4.8, 3.4, 0. ],\n",
       "       [5.7, 2.8, 1. ],\n",
       "       [4.7, 3.2, 0. ],\n",
       "       [5.4, 3.7, 0. ],\n",
       "       [4.9, 3.1, 0. ],\n",
       "       [5.2, 2.7, 1. ],\n",
       "       [4.8, 3.4, 0. ],\n",
       "       [5.7, 2.8, 1. ],\n",
       "       [4.8, 3. , 0. ],\n",
       "       [6.5, 2.8, 1. ],\n",
       "       [4.8, 3.4, 0. ],\n",
       "       [5.2, 2.7, 1. ],\n",
       "       [5.1, 3.5, 0. ],\n",
       "       [6.6, 2.9, 1. ],\n",
       "       [4.6, 3.4, 0. ],\n",
       "       [7. , 3.2, 1. ],\n",
       "       [6.4, 3.2, 1. ],\n",
       "       [4.3, 3. , 0. ],\n",
       "       [5.4, 3.9, 0. ],\n",
       "       [5.6, 2.5, 1. ],\n",
       "       [4.3, 3. , 0. ],\n",
       "       [5.8, 4. , 0. ],\n",
       "       [4.6, 3.4, 0. ],\n",
       "       [6.1, 2.8, 1. ],\n",
       "       [5.8, 2.7, 1. ],\n",
       "       [5.1, 3.3, 0. ],\n",
       "       [5. , 3.6, 0. ],\n",
       "       [5.6, 2.9, 1. ],\n",
       "       [4.8, 3.1, 0. ],\n",
       "       [5. , 3.4, 0. ],\n",
       "       [5.8, 2.7, 1. ],\n",
       "       [6.9, 3.1, 1. ],\n",
       "       [6.7, 3.1, 1. ],\n",
       "       [6.4, 3.2, 1. ],\n",
       "       [5.8, 4. , 0. ],\n",
       "       [4.9, 3. , 0. ],\n",
       "       [6.3, 3.3, 1. ],\n",
       "       [5.4, 3.4, 0. ],\n",
       "       [4.8, 3. , 0. ],\n",
       "       [5.6, 3. , 1. ],\n",
       "       [5.1, 3.3, 0. ],\n",
       "       [5.9, 3.2, 1. ],\n",
       "       [5.1, 3.8, 0. ],\n",
       "       [4.3, 3. , 0. ],\n",
       "       [5.1, 3.8, 0. ],\n",
       "       [5.2, 2.7, 1. ],\n",
       "       [5. , 3.2, 0. ],\n",
       "       [5.2, 3.5, 0. ],\n",
       "       [5. , 3.6, 0. ],\n",
       "       [5.6, 3. , 1. ],\n",
       "       [5.5, 4.2, 0. ],\n",
       "       [5. , 3.5, 0. ],\n",
       "       [6.1, 2.8, 1. ],\n",
       "       [6.5, 2.8, 1. ],\n",
       "       [5.1, 3.5, 0. ],\n",
       "       [6. , 2.2, 1. ],\n",
       "       [5.2, 3.4, 0. ],\n",
       "       [4.9, 3.1, 0. ],\n",
       "       [4.4, 3.2, 0. ],\n",
       "       [6.3, 3.3, 1. ],\n",
       "       [4.6, 3.2, 0. ],\n",
       "       [4.6, 3.1, 0. ],\n",
       "       [5.1, 3.5, 0. ],\n",
       "       [5.1, 3.8, 0. ],\n",
       "       [4.9, 3. , 0. ],\n",
       "       [5. , 2. , 1. ],\n",
       "       [5.2, 2.7, 1. ]])"
      ]
     },
     "execution_count": 1,
     "metadata": {},
     "output_type": "execute_result"
    }
   ],
   "source": [
    "import numpy as np\n",
    "\n",
    "# each row contains Sepal length in cm, Sepal width in nm and type (0|1)\n",
    "# 0: Iris-setosa | 1: Iris-versicolor\n",
    "data = np.loadtxt('iris-data.csv', delimiter=',')\n",
    "data"
   ]
  },
  {
   "cell_type": "markdown",
   "metadata": {},
   "source": [
    "##### VISUALIZE THE DATA\n",
    "It is a good idea to visualize the data so we can confirm that the data is linearly separable."
   ]
  },
  {
   "cell_type": "code",
   "execution_count": 2,
   "metadata": {},
   "outputs": [
    {
     "data": {
      "image/png": "[encoded data removed]",
      "text/plain": [
       "<matplotlib.figure.Figure at 0x7f569a62c048>"
      ]
     },
     "metadata": {},
     "output_type": "display_data"
    }
   ],
   "source": [
    "%matplotlib inline\n",
    "import matplotlib.pyplot as plt\n",
    "\n",
    "plt.grid()\n",
    "\n",
    "for i in range(len(data)) :\n",
    "    point = data[i]\n",
    "    if point[2] == 0 :\n",
    "        color = 'r'  # setosas will appear in blue\n",
    "    else:\n",
    "        color = 'b'  # versicolor will appear in red\n",
    "    \n",
    "    plt.scatter(point[0], point[1], c=color);"
   ]
  },
  {
   "cell_type": "code",
   "execution_count": 3,
   "metadata": {},
   "outputs": [
    {
     "data": {
      "text/html": [
       "<img src=\"https://farm9.staticflickr.com/8383/8675226902_e72273713f_k.jpg\" width=\"350\" height=\"350\"/>"
      ],
      "text/plain": [
       "<IPython.core.display.Image object>"
      ]
     },
     "execution_count": 3,
     "metadata": {},
     "output_type": "execute_result"
    }
   ],
   "source": [
    "from IPython.display import Image\n",
    "from IPython.core.display import HTML \n",
    "\n",
    "Image(url= 'https://farm9.staticflickr.com/8383/8675226902_e72273713f_k.jpg', width=350, height=350)"
   ]
  },
  {
   "cell_type": "markdown",
   "metadata": {},
   "source": [
    "##### DEFINE TRAINING AND TESTING SETS"
   ]
  },
  {
   "cell_type": "code",
   "execution_count": 4,
   "metadata": {},
   "outputs": [],
   "source": [
    "# split data into training and testing sets\n",
    "train_data = data[:70]   # 70%\n",
    "test_data = data[70:]    # 30%"
   ]
  },
  {
   "cell_type": "code",
   "execution_count": 5,
   "metadata": {},
   "outputs": [
    {
     "data": {
      "text/plain": [
       "(68, 2)"
      ]
     },
     "execution_count": 5,
     "metadata": {},
     "output_type": "execute_result"
    }
   ],
   "source": [
    "from sklearn.model_selection import train_test_split\n",
    "\n",
    "target = data[:, -1]\n",
    "data = data[:, :-1]\n",
    "\n",
    "X_train, X_test, y_train, y_test = train_test_split(\n",
    "    data, target, test_size=0.30, random_state=42)\n",
    "\n",
    "X_train.shape"
   ]
  },
  {
   "cell_type": "markdown",
   "metadata": {},
   "source": [
    "##### TRAIN THE MODEL"
   ]
  },
  {
   "cell_type": "code",
   "execution_count": 6,
   "metadata": {},
   "outputs": [],
   "source": [
    "from sklearn.metrics import mean_squared_error\n",
    "\n",
    "class Perceptron(object):\n",
    "    def __init__(self, learning=0.1, n_epochs=20, random_state=47):\n",
    "        self.learning = learning\n",
    "        self.n_epochs = n_epochs\n",
    "    \n",
    "    def predict(self, X):\n",
    "        pred = np.dot(X, self.w_) + self.b_\n",
    "        return 1.0 if pred >= 0.0 else 0.0\n",
    "    \n",
    "    def fit(self, X, y):\n",
    "        # iniciate the weights and bias\n",
    "        self.w_ = np.random.uniform(0, 1, X.shape[1])\n",
    "        self.b_ = np.random.uniform(0, 1, 1)\n",
    "        \n",
    "        self.costList_ = []\n",
    "\n",
    "        for ep in range(self.n_epochs):\n",
    "            cost_epoch = 0\n",
    "            for xi, target in zip(X, y):\n",
    "                # cost function\n",
    "                pred = self.predict(xi)\n",
    "                cost = np.square(target - pred)\n",
    "                cost_epoch += float(cost/len(X))  # MSE\n",
    "                \n",
    "                # update weights and bias\n",
    "                update = self.learning * (target - pred)\n",
    "                self.w_ += update * xi\n",
    "                self.b_ += update\n",
    "            \n",
    "            # store MSE through every epoch iteration\n",
    "            self.costList_.append(cost_epoch)\n",
    "            \n",
    "            # print model improvements\n",
    "            print(\"Epoch: {:04}\\tLoss: {:06.5f}\".format((ep+1), cost_epoch))\n",
    "        return self"
   ]
  },
  {
   "cell_type": "code",
   "execution_count": 7,
   "metadata": {},
   "outputs": [
    {
     "name": "stdout",
     "output_type": "stream",
     "text": [
      "Epoch: 0001\tLoss: 0.35294\n",
      "Epoch: 0002\tLoss: 0.02941\n",
      "Epoch: 0003\tLoss: 0.02941\n",
      "Epoch: 0004\tLoss: 0.00000\n",
      "Epoch: 0005\tLoss: 0.00000\n",
      "Epoch: 0006\tLoss: 0.00000\n",
      "Epoch: 0007\tLoss: 0.00000\n",
      "Epoch: 0008\tLoss: 0.00000\n",
      "Epoch: 0009\tLoss: 0.00000\n",
      "Epoch: 0010\tLoss: 0.00000\n",
      "Epoch: 0011\tLoss: 0.00000\n",
      "Epoch: 0012\tLoss: 0.00000\n",
      "Epoch: 0013\tLoss: 0.00000\n",
      "Epoch: 0014\tLoss: 0.00000\n",
      "Epoch: 0015\tLoss: 0.00000\n",
      "Epoch: 0016\tLoss: 0.00000\n",
      "Epoch: 0017\tLoss: 0.00000\n",
      "Epoch: 0018\tLoss: 0.00000\n",
      "Epoch: 0019\tLoss: 0.00000\n",
      "Epoch: 0020\tLoss: 0.00000\n"
     ]
    },
    {
     "data": {
      "text/plain": [
       "<__main__.Perceptron at 0x7f5682c81908>"
      ]
     },
     "execution_count": 7,
     "metadata": {},
     "output_type": "execute_result"
    }
   ],
   "source": [
    "clf = Perceptron()\n",
    "clf.fit(X_train, y_train)"
   ]
  },
  {
   "cell_type": "markdown",
   "metadata": {},
   "source": [
    "##### VISUALIZE MODEL IMPROVEMENT"
   ]
  },
  {
   "cell_type": "code",
   "execution_count": 8,
   "metadata": {},
   "outputs": [
    {
     "data": {
      "image/png": "[encoded data removed]",
      "text/plain": [
       "<matplotlib.figure.Figure at 0x7f5682c81cc0>"
      ]
     },
     "metadata": {},
     "output_type": "display_data"
    }
   ],
   "source": [
    "plt.plot(clf.costList_)\n",
    "plt.xlabel('epochs')\n",
    "plt.ylabel('MSE');\n",
    "plt.show()"
   ]
  },
  {
   "cell_type": "code",
   "execution_count": 9,
   "metadata": {},
   "outputs": [
    {
     "name": "stdout",
     "output_type": "stream",
     "text": [
      "expectedValue vs prediction:\t 1.0 | 1.0\n",
      "expectedValue vs prediction:\t 1.0 | 1.0\n",
      "expectedValue vs prediction:\t 0.0 | 0.0\n",
      "expectedValue vs prediction:\t 0.0 | 0.0\n",
      "expectedValue vs prediction:\t 0.0 | 0.0\n",
      "expectedValue vs prediction:\t 1.0 | 1.0\n",
      "expectedValue vs prediction:\t 1.0 | 1.0\n",
      "expectedValue vs prediction:\t 1.0 | 1.0\n",
      "expectedValue vs prediction:\t 0.0 | 0.0\n",
      "expectedValue vs prediction:\t 0.0 | 0.0\n",
      "expectedValue vs prediction:\t 0.0 | 0.0\n",
      "expectedValue vs prediction:\t 0.0 | 0.0\n",
      "expectedValue vs prediction:\t 1.0 | 1.0\n",
      "expectedValue vs prediction:\t 0.0 | 0.0\n",
      "expectedValue vs prediction:\t 1.0 | 1.0\n",
      "expectedValue vs prediction:\t 0.0 | 0.0\n",
      "expectedValue vs prediction:\t 0.0 | 0.0\n",
      "expectedValue vs prediction:\t 0.0 | 0.0\n",
      "expectedValue vs prediction:\t 1.0 | 1.0\n",
      "expectedValue vs prediction:\t 0.0 | 0.0\n",
      "expectedValue vs prediction:\t 0.0 | 0.0\n",
      "expectedValue vs prediction:\t 1.0 | 1.0\n",
      "expectedValue vs prediction:\t 0.0 | 0.0\n",
      "expectedValue vs prediction:\t 0.0 | 0.0\n",
      "expectedValue vs prediction:\t 0.0 | 0.0\n",
      "expectedValue vs prediction:\t 0.0 | 0.0\n",
      "expectedValue vs prediction:\t 0.0 | 0.0\n",
      "expectedValue vs prediction:\t 1.0 | 1.0\n",
      "expectedValue vs prediction:\t 0.0 | 0.0\n",
      "expectedValue vs prediction:\t 0.0 | 0.0\n"
     ]
    }
   ],
   "source": [
    "for i in range(len(y_test)):\n",
    "    print('expectedValue vs prediction:\\t {} | {}'.format(y_test[i], clf.predict(X_test[i])))"
   ]
  },
  {
   "cell_type": "markdown",
   "metadata": {},
   "source": [
    "##### TRY IT BY YOURSELF"
   ]
  },
  {
   "cell_type": "code",
   "execution_count": 10,
   "metadata": {},
   "outputs": [
    {
     "data": {
      "text/plain": [
       "1.0"
      ]
     },
     "execution_count": 10,
     "metadata": {},
     "output_type": "execute_result"
    }
   ],
   "source": [
    "try_me = [5.5,  2.3]\n",
    "clf.predict(try_me)"
   ]
  },
  {
   "cell_type": "code",
   "execution_count": null,
   "metadata": {},
   "outputs": [],
   "source": []
  }
 ],
 "metadata": {
  "kernelspec": {
   "display_name": "Python 3",
   "language": "python",
   "name": "python3"
  },
  "language_info": {
   "codemirror_mode": {
    "name": "ipython",
    "version": 3
   },
   "file_extension": ".py",
   "mimetype": "text/x-python",
   "name": "python",
   "nbconvert_exporter": "python",
   "pygments_lexer": "ipython3",
   "version": "3.6.4"
  }
 },
 "nbformat": 4,
 "nbformat_minor": 2
}
