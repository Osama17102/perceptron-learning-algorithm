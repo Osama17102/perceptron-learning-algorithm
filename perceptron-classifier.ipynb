{
 "cells": [
  {
   "cell_type": "markdown",
   "metadata": {},
   "source": [
    "# PERCEPTRON"
   ]
  },
  {
   "cell_type": "markdown",
   "metadata": {},
   "source": [
    "##### LOAD THE DATA"
   ]
  },
  {
   "cell_type": "code",
   "execution_count": 1,
   "metadata": {},
   "outputs": [
    {
     "data": {
      "text/plain": [
       "array([[ 5.1,  3.5,  0. ],\n",
       "       [ 4.9,  3. ,  0. ],\n",
       "       [ 4.7,  3.2,  0. ],\n",
       "       [ 4.9,  3. ,  0. ],\n",
       "       [ 4.6,  3.1,  0. ],\n",
       "       [ 4.6,  3.1,  0. ],\n",
       "       [ 4.7,  3.2,  0. ],\n",
       "       [ 4.6,  3.4,  0. ],\n",
       "       [ 5.4,  3.9,  0. ],\n",
       "       [ 5. ,  3.6,  0. ],\n",
       "       [ 4.7,  3.2,  0. ],\n",
       "       [ 4.7,  3.2,  0. ],\n",
       "       [ 5.1,  3.5,  0. ],\n",
       "       [ 4.4,  2.9,  0. ],\n",
       "       [ 5. ,  3.4,  0. ],\n",
       "       [ 5.4,  3.7,  0. ],\n",
       "       [ 4.8,  3.4,  0. ],\n",
       "       [ 4.8,  3. ,  0. ],\n",
       "       [ 5.8,  4. ,  0. ],\n",
       "       [ 4.8,  3.4,  0. ],\n",
       "       [ 4.4,  2.9,  0. ],\n",
       "       [ 5.1,  3.5,  0. ],\n",
       "       [ 5.8,  4. ,  0. ],\n",
       "       [ 4.4,  2.9,  0. ],\n",
       "       [ 5.5,  2.3,  1. ],\n",
       "       [ 5.4,  3.9,  0. ],\n",
       "       [ 5.7,  3.8,  0. ],\n",
       "       [ 5.4,  3.9,  0. ],\n",
       "       [ 5.4,  3.9,  0. ],\n",
       "       [ 5.4,  3.9,  0. ],\n",
       "       [ 5.7,  4.4,  0. ],\n",
       "       [ 4.8,  3.4,  0. ],\n",
       "       [ 5.7,  2.8,  1. ],\n",
       "       [ 4.7,  3.2,  0. ],\n",
       "       [ 5.4,  3.7,  0. ],\n",
       "       [ 4.9,  3.1,  0. ],\n",
       "       [ 5.2,  2.7,  1. ],\n",
       "       [ 4.8,  3.4,  0. ],\n",
       "       [ 5.7,  2.8,  1. ],\n",
       "       [ 4.8,  3. ,  0. ],\n",
       "       [ 6.5,  2.8,  1. ],\n",
       "       [ 4.8,  3.4,  0. ],\n",
       "       [ 5.2,  2.7,  1. ],\n",
       "       [ 5.1,  3.5,  0. ],\n",
       "       [ 6.6,  2.9,  1. ],\n",
       "       [ 4.6,  3.4,  0. ],\n",
       "       [ 7. ,  3.2,  1. ],\n",
       "       [ 6.4,  3.2,  1. ],\n",
       "       [ 4.3,  3. ,  0. ],\n",
       "       [ 5.4,  3.9,  0. ],\n",
       "       [ 5.6,  2.5,  1. ],\n",
       "       [ 4.3,  3. ,  0. ],\n",
       "       [ 5.8,  4. ,  0. ],\n",
       "       [ 4.6,  3.4,  0. ],\n",
       "       [ 6.1,  2.8,  1. ],\n",
       "       [ 5.8,  2.7,  1. ],\n",
       "       [ 5.1,  3.3,  0. ],\n",
       "       [ 5. ,  3.6,  0. ],\n",
       "       [ 5.6,  2.9,  1. ],\n",
       "       [ 4.8,  3.1,  0. ],\n",
       "       [ 5. ,  3.4,  0. ],\n",
       "       [ 5.8,  2.7,  1. ],\n",
       "       [ 6.9,  3.1,  1. ],\n",
       "       [ 6.7,  3.1,  1. ],\n",
       "       [ 6.4,  3.2,  1. ],\n",
       "       [ 5.8,  4. ,  0. ],\n",
       "       [ 4.9,  3. ,  0. ],\n",
       "       [ 6.3,  3.3,  1. ],\n",
       "       [ 5.4,  3.4,  0. ],\n",
       "       [ 4.8,  3. ,  0. ],\n",
       "       [ 5.6,  3. ,  1. ],\n",
       "       [ 5.1,  3.3,  0. ],\n",
       "       [ 5.9,  3.2,  1. ],\n",
       "       [ 5.1,  3.8,  0. ],\n",
       "       [ 4.3,  3. ,  0. ],\n",
       "       [ 5.1,  3.8,  0. ],\n",
       "       [ 5.2,  2.7,  1. ],\n",
       "       [ 5. ,  3.2,  0. ],\n",
       "       [ 5.2,  3.5,  0. ],\n",
       "       [ 5. ,  3.6,  0. ],\n",
       "       [ 5.6,  3. ,  1. ],\n",
       "       [ 5.5,  4.2,  0. ],\n",
       "       [ 5. ,  3.5,  0. ],\n",
       "       [ 6.1,  2.8,  1. ],\n",
       "       [ 6.5,  2.8,  1. ],\n",
       "       [ 5.1,  3.5,  0. ],\n",
       "       [ 6. ,  2.2,  1. ],\n",
       "       [ 5.2,  3.4,  0. ],\n",
       "       [ 4.9,  3.1,  0. ],\n",
       "       [ 4.4,  3.2,  0. ],\n",
       "       [ 6.3,  3.3,  1. ],\n",
       "       [ 4.6,  3.2,  0. ],\n",
       "       [ 4.6,  3.1,  0. ],\n",
       "       [ 5.1,  3.5,  0. ],\n",
       "       [ 5.1,  3.8,  0. ],\n",
       "       [ 4.9,  3. ,  0. ],\n",
       "       [ 5. ,  2. ,  1. ],\n",
       "       [ 5.2,  2.7,  1. ]])"
      ]
     },
     "execution_count": 1,
     "metadata": {},
     "output_type": "execute_result"
    }
   ],
   "source": [
    "import numpy as np\n",
    "\n",
    "# each row contains Sepal length in cm, Sepal width in nm and type (0|1)\n",
    "# 0: Iris-setosa | 1: Iris-versicolor\n",
    "data = np.loadtxt('iris-data.csv', delimiter=',')\n",
    "data"
   ]
  },
  {
   "cell_type": "markdown",
   "metadata": {},
   "source": [
    "##### VISUALIZE THE DATA"
   ]
  },
  {
   "cell_type": "code",
   "execution_count": 2,
   "metadata": {},
   "outputs": [
    {
     "data": {
      "image/png": "[encoded data removed]",
      "text/plain": [
       "<matplotlib.figure.Figure at 0x22e0ccfacf8>"
      ]
     },
     "metadata": {},
     "output_type": "display_data"
    }
   ],
   "source": [
    "%matplotlib inline\n",
    "import matplotlib.pyplot as plt\n",
    "\n",
    "plt.grid()\n",
    "\n",
    "for i in range(len(data)) :\n",
    "    point = data[i]\n",
    "    if point[2] == 0 :\n",
    "        color = 'r'  # setosas will appear in blue\n",
    "    else:\n",
    "        color = 'b'  # versicolor will appear in red\n",
    "    \n",
    "    plt.scatter(point[0], point[1], c=color);"
   ]
  },
  {
   "cell_type": "code",
   "execution_count": 3,
   "metadata": {},
   "outputs": [
    {
     "data": {
      "text/html": [
       "<img src=\"https://farm9.staticflickr.com/8383/8675226902_e72273713f_k.jpg\" width=\"400\" height=\"400\"/>"
      ],
      "text/plain": [
       "<IPython.core.display.Image object>"
      ]
     },
     "execution_count": 3,
     "metadata": {},
     "output_type": "execute_result"
    }
   ],
   "source": [
    "from IPython.display import Image\n",
    "from IPython.core.display import HTML \n",
    "\n",
    "Image(url= 'https://farm9.staticflickr.com/8383/8675226902_e72273713f_k.jpg', width=400, height=400)"
   ]
  },
  {
   "cell_type": "markdown",
   "metadata": {},
   "source": [
    "##### DEFINE TRAINING AND TESTING SETS"
   ]
  },
  {
   "cell_type": "code",
   "execution_count": 4,
   "metadata": {},
   "outputs": [],
   "source": [
    "# split data into training and testing sets\n",
    "train_data = data[:70]   # 70%\n",
    "test_data = data[70:]    # 30%"
   ]
  },
  {
   "cell_type": "markdown",
   "metadata": {},
   "source": [
    "##### DEFINE ACTIVATION FUNCTION AND ITS DERIVATIVE"
   ]
  },
  {
   "cell_type": "code",
   "execution_count": 5,
   "metadata": {},
   "outputs": [
    {
     "data": {
      "image/png": "[encoded data removed]",
      "text/plain": [
       "<matplotlib.figure.Figure at 0x22e0cd682b0>"
      ]
     },
     "metadata": {},
     "output_type": "display_data"
    }
   ],
   "source": [
    "def sigmoid(x) :\n",
    "    return 1/(1 + np.exp(-x))\n",
    "\n",
    "def sigmoid_p(x) :\n",
    "    return sigmoid(x) * (1-sigmoid(x))\n",
    "\n",
    "lin = np.linspace(-10, 10, 100)\n",
    "plt.plot(lin, sigmoid(lin), c='r')\n",
    "plt.plot(lin, sigmoid_p(lin), c='b');"
   ]
  },
  {
   "cell_type": "markdown",
   "metadata": {},
   "source": [
    "##### TRAIN THE MODEL"
   ]
  },
  {
   "cell_type": "code",
   "execution_count": 6,
   "metadata": {},
   "outputs": [
    {
     "data": {
      "application/vnd.jupyter.widget-view+json": {
       "model_id": "5cf842e8cd7e469987b418f0d20e2d68",
       "version_major": 2,
       "version_minor": 0
      },
      "text/html": [
       "<p>Failed to display Jupyter Widget of type <code>HBox</code>.</p>\n",
       "<p>\n",
       "  If you're reading this message in the Jupyter Notebook or JupyterLab Notebook, it may mean\n",
       "  that the widgets JavaScript is still loading. If this message persists, it\n",
       "  likely means that the widgets JavaScript library is either not installed or\n",
       "  not enabled. See the <a href=\"https://ipywidgets.readthedocs.io/en/stable/user_install.html\">Jupyter\n",
       "  Widgets Documentation</a> for setup instructions.\n",
       "</p>\n",
       "<p>\n",
       "  If you're reading this message in another frontend (for example, a static\n",
       "  rendering on GitHub or <a href=\"https://nbviewer.jupyter.org/\">NBViewer</a>),\n",
       "  it may mean that your frontend doesn't currently support widgets.\n",
       "</p>\n"
      ],
      "text/plain": [
       "HBox(children=(IntProgress(value=0, max=20), HTML(value='')))"
      ]
     },
     "metadata": {},
     "output_type": "display_data"
    },
    {
     "name": "stdout",
     "output_type": "stream",
     "text": [
      "Epoch: 0\tCost: 0.39647\tRegression: 0.19837(X1) + -0.92720(X2) + -0.23121\n",
      "Epoch: 1\tCost: 0.15868\tRegression: 0.56972(X1) + -1.49644(X2) + -0.29568\n",
      "Epoch: 2\tCost: 0.11605\tRegression: 0.89938(X1) + -1.99963(X2) + -0.34637\n",
      "Epoch: 3\tCost: 0.08464\tRegression: 1.17828(X1) + -2.40236(X2) + -0.38227\n",
      "Epoch: 4\tCost: 0.06446\tRegression: 1.39350(X1) + -2.73119(X2) + -0.41347\n",
      "Epoch: 5\tCost: 0.05191\tRegression: 1.56196(X1) + -3.00182(X2) + -0.44137\n",
      "Epoch: 6\tCost: 0.04383\tRegression: 1.70139(X1) + -3.22866(X2) + -0.46623\n",
      "Epoch: 7\tCost: 0.03822\tRegression: 1.82166(X1) + -3.42372(X2) + -0.48863\n",
      "Epoch: 8\tCost: 0.03400\tRegression: 1.92856(X1) + -3.59481(X2) + -0.50899\n",
      "Epoch: 9\tCost: 0.03063\tRegression: 2.02554(X1) + -3.74702(X2) + -0.52761\n",
      "Epoch: 10\tCost: 0.02783\tRegression: 2.11464(X1) + -3.88395(X2) + -0.54476\n",
      "Epoch: 11\tCost: 0.02545\tRegression: 2.19712(X1) + -4.00831(X2) + -0.56069\n",
      "Epoch: 12\tCost: 0.02341\tRegression: 2.27380(X1) + -4.12222(X2) + -0.57560\n",
      "Epoch: 13\tCost: 0.02164\tRegression: 2.34528(X1) + -4.22733(X2) + -0.58966\n",
      "Epoch: 14\tCost: 0.02010\tRegression: 2.41207(X1) + -4.32497(X2) + -0.60301\n",
      "Epoch: 15\tCost: 0.01876\tRegression: 2.47460(X1) + -4.41619(X2) + -0.61574\n",
      "Epoch: 16\tCost: 0.01758\tRegression: 2.53328(X1) + -4.50185(X2) + -0.62794\n",
      "Epoch: 17\tCost: 0.01654\tRegression: 2.58849(X1) + -4.58262(X2) + -0.63965\n",
      "Epoch: 18\tCost: 0.01562\tRegression: 2.64054(X1) + -4.65910(X2) + -0.65094\n",
      "Epoch: 19\tCost: 0.01481\tRegression: 2.68976(X1) + -4.73174(X2) + -0.66182\n",
      "\n"
     ]
    }
   ],
   "source": [
    "# deploy a progress bar\n",
    "try:\n",
    "    from tqdm import tqdm_notebook as tqdm\n",
    "except ImportError:\n",
    "    def tqdm(x, *args, **kwargs):\n",
    "        return x\n",
    "\n",
    "cost_list = []\n",
    "learning_rate = 0.2\n",
    "n_epochs = 20\n",
    "\n",
    "# iniciate the weights and the bias with random numbers\n",
    "w1 = np.random.randn()\n",
    "w2 = np.random.randn()\n",
    "b = np.random.randn()\n",
    "\n",
    "for ep in tqdm(range(n_epochs)):\n",
    "    cost_epoch = 0\n",
    "    \n",
    "    for i in range(len(train_data)):\n",
    "        # choose a single item\n",
    "        point = train_data[i]\n",
    "\n",
    "        z = point[0] * w1 + point[1] * w2 + b\n",
    "        prediction = sigmoid(z)\n",
    "\n",
    "        # cost function\n",
    "        target = point[2]\n",
    "        cost = np.square(prediction - target)\n",
    "        cost_epoch += cost/len(train_data)\n",
    "\n",
    "        #derivative of the cost function\n",
    "        dcost_prediction = 2 * (prediction -target)\n",
    "        dprediction_dz = sigmoid_p(z)\n",
    "\n",
    "        # the derivatives of the weights is the inputs values \n",
    "        # the derivative of the Bias is 1\n",
    "        dz_dw1 = point[0]\n",
    "        dz_dw2 = point[1]\n",
    "        dz_db = 1\n",
    "\n",
    "        # the slope of the cost function\n",
    "        dcost_dz = dcost_prediction * dprediction_dz\n",
    "\n",
    "        # the slope of the weights & bias\n",
    "        dcost_dw1 = dcost_dz * dz_dw1\n",
    "        dcost_dw2 = dcost_dz * dz_dw2\n",
    "        dcost_db = dcost_dz * dz_db\n",
    "\n",
    "        # update the weights and bias\n",
    "        w1 = w1 - learning_rate * dcost_dw1\n",
    "        w2 = w2 - learning_rate * dcost_dw2\n",
    "        b = b - learning_rate * dcost_db\n",
    "        \n",
    "    \n",
    "    # store the change on the cost through every epoch\n",
    "    cost_list.append(cost_epoch)\n",
    "\n",
    "    # print evolution of the regression model\n",
    "    print('Epoch: {}\\tCost: {:06.5f}\\tRegression: {:06.5f}(X1) + {:06.5f}(X2) + {:06.5f}'.format(ep,\n",
    "                                                                                                 cost_epoch,\n",
    "                                                                                                 w1,\n",
    "                                                                                                 w2,\n",
    "                                                                                                 b))"
   ]
  },
  {
   "cell_type": "markdown",
   "metadata": {},
   "source": [
    "##### VISUALIZE MODEL IMPROVEMENT"
   ]
  },
  {
   "cell_type": "code",
   "execution_count": 7,
   "metadata": {},
   "outputs": [
    {
     "data": {
      "image/png": "[encoded data removed]",
      "text/plain": [
       "<matplotlib.figure.Figure at 0x22e0d3ae9e8>"
      ]
     },
     "metadata": {},
     "output_type": "display_data"
    }
   ],
   "source": [
    "plt.plot(cost_list)\n",
    "plt.xlabel('epochs')\n",
    "plt.ylabel('MSE');"
   ]
  },
  {
   "cell_type": "markdown",
   "metadata": {},
   "source": [
    "##### MAKE PREDICTIONS"
   ]
  },
  {
   "cell_type": "code",
   "execution_count": 8,
   "metadata": {},
   "outputs": [
    {
     "name": "stdout",
     "output_type": "stream",
     "text": [
      "Input: 5.6, 3.0\t\tRealValue vs Prediction: 1 - 1\n",
      "Input: 5.1, 3.3\t\tRealValue vs Prediction: 0 - 0\n",
      "Input: 5.9, 3.2\t\tRealValue vs Prediction: 1 - 1\n",
      "Input: 5.1, 3.8\t\tRealValue vs Prediction: 0 - 0\n",
      "Input: 4.3, 3.0\t\tRealValue vs Prediction: 0 - 0\n",
      "Input: 5.1, 3.8\t\tRealValue vs Prediction: 0 - 0\n",
      "Input: 5.2, 2.7\t\tRealValue vs Prediction: 1 - 1\n",
      "Input: 5.0, 3.2\t\tRealValue vs Prediction: 0 - 0\n",
      "Input: 5.2, 3.5\t\tRealValue vs Prediction: 0 - 0\n",
      "Input: 5.0, 3.6\t\tRealValue vs Prediction: 0 - 0\n",
      "Input: 5.6, 3.0\t\tRealValue vs Prediction: 1 - 1\n",
      "Input: 5.5, 4.2\t\tRealValue vs Prediction: 0 - 0\n",
      "Input: 5.0, 3.5\t\tRealValue vs Prediction: 0 - 0\n",
      "Input: 6.1, 2.8\t\tRealValue vs Prediction: 1 - 1\n",
      "Input: 6.5, 2.8\t\tRealValue vs Prediction: 1 - 1\n",
      "Input: 5.1, 3.5\t\tRealValue vs Prediction: 0 - 0\n",
      "Input: 6.0, 2.2\t\tRealValue vs Prediction: 1 - 1\n",
      "Input: 5.2, 3.4\t\tRealValue vs Prediction: 0 - 0\n",
      "Input: 4.9, 3.1\t\tRealValue vs Prediction: 0 - 0\n",
      "Input: 4.4, 3.2\t\tRealValue vs Prediction: 0 - 0\n",
      "Input: 6.3, 3.3\t\tRealValue vs Prediction: 1 - 1\n",
      "Input: 4.6, 3.2\t\tRealValue vs Prediction: 0 - 0\n",
      "Input: 4.6, 3.1\t\tRealValue vs Prediction: 0 - 0\n",
      "Input: 5.1, 3.5\t\tRealValue vs Prediction: 0 - 0\n",
      "Input: 5.1, 3.8\t\tRealValue vs Prediction: 0 - 0\n",
      "Input: 4.9, 3.0\t\tRealValue vs Prediction: 0 - 0\n",
      "Input: 5.0, 2.0\t\tRealValue vs Prediction: 1 - 1\n",
      "Input: 5.2, 2.7\t\tRealValue vs Prediction: 1 - 1\n"
     ]
    }
   ],
   "source": [
    "def predictor(feature1, feature2):\n",
    "    logit = (feature1 * w1) + (feature2 * w2) + b\n",
    "    prediction = sigmoid(logit)\n",
    "    return prediction\n",
    "\n",
    "for i in range(len(test_data)) :\n",
    "    point = test_data[i]\n",
    "    prediction = predictor(point[0], point[1])\n",
    "    prediction  = int(round(prediction))  # round the result to the nearest integer\n",
    "    \n",
    "    print('Input: {}, {}\\t\\tRealValue vs Prediction: {} - {}'.format(point[0], point[1], prediction, int(point[2])))"
   ]
  },
  {
   "cell_type": "code",
   "execution_count": null,
   "metadata": {},
   "outputs": [],
   "source": []
  }
 ],
 "metadata": {
  "kernelspec": {
   "display_name": "Python 3",
   "language": "python",
   "name": "python3"
  },
  "language_info": {
   "codemirror_mode": {
    "name": "ipython",
    "version": 3
   },
   "file_extension": ".py",
   "mimetype": "text/x-python",
   "name": "python",
   "nbconvert_exporter": "python",
   "pygments_lexer": "ipython3",
   "version": "3.6.4"
  }
 },
 "nbformat": 4,
 "nbformat_minor": 2
}
