{
 "cells": [
  {
   "cell_type": "markdown",
   "metadata": {},
   "source": [
    "# PERCEPTRON"
   ]
  },
  {
   "cell_type": "markdown",
   "metadata": {},
   "source": [
    "##### LOAD THE DATA"
   ]
  },
  {
   "cell_type": "code",
   "execution_count": 1,
   "metadata": {},
   "outputs": [
    {
     "data": {
      "text/plain": [
       "array([[ 5.1,  3.5,  0. ],\n",
       "       [ 4.9,  3. ,  0. ],\n",
       "       [ 4.7,  3.2,  0. ],\n",
       "       [ 4.9,  3. ,  0. ],\n",
       "       [ 4.6,  3.1,  0. ],\n",
       "       [ 4.6,  3.1,  0. ],\n",
       "       [ 4.7,  3.2,  0. ],\n",
       "       [ 4.6,  3.4,  0. ],\n",
       "       [ 5.4,  3.9,  0. ],\n",
       "       [ 5. ,  3.6,  0. ],\n",
       "       [ 4.7,  3.2,  0. ],\n",
       "       [ 4.7,  3.2,  0. ],\n",
       "       [ 5.1,  3.5,  0. ],\n",
       "       [ 4.4,  2.9,  0. ],\n",
       "       [ 5. ,  3.4,  0. ],\n",
       "       [ 5.4,  3.7,  0. ],\n",
       "       [ 4.8,  3.4,  0. ],\n",
       "       [ 4.8,  3. ,  0. ],\n",
       "       [ 5.8,  4. ,  0. ],\n",
       "       [ 4.8,  3.4,  0. ],\n",
       "       [ 4.4,  2.9,  0. ],\n",
       "       [ 5.1,  3.5,  0. ],\n",
       "       [ 5.8,  4. ,  0. ],\n",
       "       [ 4.4,  2.9,  0. ],\n",
       "       [ 5.5,  2.3,  1. ],\n",
       "       [ 5.4,  3.9,  0. ],\n",
       "       [ 5.7,  3.8,  0. ],\n",
       "       [ 5.4,  3.9,  0. ],\n",
       "       [ 5.4,  3.9,  0. ],\n",
       "       [ 5.4,  3.9,  0. ],\n",
       "       [ 5.7,  4.4,  0. ],\n",
       "       [ 4.8,  3.4,  0. ],\n",
       "       [ 5.7,  2.8,  1. ],\n",
       "       [ 4.7,  3.2,  0. ],\n",
       "       [ 5.4,  3.7,  0. ],\n",
       "       [ 4.9,  3.1,  0. ],\n",
       "       [ 5.2,  2.7,  1. ],\n",
       "       [ 4.8,  3.4,  0. ],\n",
       "       [ 5.7,  2.8,  1. ],\n",
       "       [ 4.8,  3. ,  0. ],\n",
       "       [ 6.5,  2.8,  1. ],\n",
       "       [ 4.8,  3.4,  0. ],\n",
       "       [ 5.2,  2.7,  1. ],\n",
       "       [ 5.1,  3.5,  0. ],\n",
       "       [ 6.6,  2.9,  1. ],\n",
       "       [ 4.6,  3.4,  0. ],\n",
       "       [ 7. ,  3.2,  1. ],\n",
       "       [ 6.4,  3.2,  1. ],\n",
       "       [ 4.3,  3. ,  0. ],\n",
       "       [ 5.4,  3.9,  0. ],\n",
       "       [ 5.6,  2.5,  1. ],\n",
       "       [ 4.3,  3. ,  0. ],\n",
       "       [ 5.8,  4. ,  0. ],\n",
       "       [ 4.6,  3.4,  0. ],\n",
       "       [ 6.1,  2.8,  1. ],\n",
       "       [ 5.8,  2.7,  1. ],\n",
       "       [ 5.1,  3.3,  0. ],\n",
       "       [ 5. ,  3.6,  0. ],\n",
       "       [ 5.6,  2.9,  1. ],\n",
       "       [ 4.8,  3.1,  0. ],\n",
       "       [ 5. ,  3.4,  0. ],\n",
       "       [ 5.8,  2.7,  1. ],\n",
       "       [ 6.9,  3.1,  1. ],\n",
       "       [ 6.7,  3.1,  1. ],\n",
       "       [ 6.4,  3.2,  1. ],\n",
       "       [ 5.8,  4. ,  0. ],\n",
       "       [ 4.9,  3. ,  0. ],\n",
       "       [ 6.3,  3.3,  1. ],\n",
       "       [ 5.4,  3.4,  0. ],\n",
       "       [ 4.8,  3. ,  0. ],\n",
       "       [ 5.6,  3. ,  1. ],\n",
       "       [ 5.1,  3.3,  0. ],\n",
       "       [ 5.9,  3.2,  1. ],\n",
       "       [ 5.1,  3.8,  0. ],\n",
       "       [ 4.3,  3. ,  0. ],\n",
       "       [ 5.1,  3.8,  0. ],\n",
       "       [ 5.2,  2.7,  1. ],\n",
       "       [ 5. ,  3.2,  0. ],\n",
       "       [ 5.2,  3.5,  0. ],\n",
       "       [ 5. ,  3.6,  0. ],\n",
       "       [ 5.6,  3. ,  1. ],\n",
       "       [ 5.5,  4.2,  0. ],\n",
       "       [ 5. ,  3.5,  0. ],\n",
       "       [ 6.1,  2.8,  1. ],\n",
       "       [ 6.5,  2.8,  1. ],\n",
       "       [ 5.1,  3.5,  0. ],\n",
       "       [ 6. ,  2.2,  1. ],\n",
       "       [ 5.2,  3.4,  0. ],\n",
       "       [ 4.9,  3.1,  0. ],\n",
       "       [ 4.4,  3.2,  0. ],\n",
       "       [ 6.3,  3.3,  1. ],\n",
       "       [ 4.6,  3.2,  0. ],\n",
       "       [ 4.6,  3.1,  0. ],\n",
       "       [ 5.1,  3.5,  0. ],\n",
       "       [ 5.1,  3.8,  0. ],\n",
       "       [ 4.9,  3. ,  0. ],\n",
       "       [ 5. ,  2. ,  1. ],\n",
       "       [ 5.2,  2.7,  1. ]])"
      ]
     },
     "execution_count": 1,
     "metadata": {},
     "output_type": "execute_result"
    }
   ],
   "source": [
    "import numpy as np\n",
    "\n",
    "# each row contains Sepal length in cm, Sepal width in nm and type (0|1)\n",
    "# 0: Iris-setosa | 1: Iris-versicolor\n",
    "data = np.loadtxt('iris-data.csv', delimiter=',')\n",
    "data"
   ]
  },
  {
   "cell_type": "markdown",
   "metadata": {},
   "source": [
    "##### VISUALIZE THE DATA"
   ]
  },
  {
   "cell_type": "code",
   "execution_count": 2,
   "metadata": {},
   "outputs": [
    {
     "data": {
      "image/png": "[encoded data removed]",
      "text/plain": [
       "<matplotlib.figure.Figure at 0x1db7952fa58>"
      ]
     },
     "metadata": {},
     "output_type": "display_data"
    }
   ],
   "source": [
    "%matplotlib inline\n",
    "import matplotlib.pyplot as plt\n",
    "\n",
    "plt.grid()\n",
    "\n",
    "for i in range(len(data)) :\n",
    "    point = data[i]\n",
    "    if point[2] == 0 :\n",
    "        color = 'r'  # setosas will appear in blue\n",
    "    else:\n",
    "        color = 'b'  # versicolor will appear in red\n",
    "    \n",
    "    plt.scatter(point[0], point[1], c=color);"
   ]
  },
  {
   "cell_type": "code",
   "execution_count": 3,
   "metadata": {},
   "outputs": [
    {
     "data": {
      "text/html": [
       "<img src=\"https://farm9.staticflickr.com/8383/8675226902_e72273713f_k.jpg\" width=\"400\" height=\"400\"/>"
      ],
      "text/plain": [
       "<IPython.core.display.Image object>"
      ]
     },
     "execution_count": 3,
     "metadata": {},
     "output_type": "execute_result"
    }
   ],
   "source": [
    "from IPython.display import Image\n",
    "from IPython.core.display import HTML \n",
    "\n",
    "Image(url= 'https://farm9.staticflickr.com/8383/8675226902_e72273713f_k.jpg', width=400, height=400)"
   ]
  },
  {
   "cell_type": "markdown",
   "metadata": {},
   "source": [
    "##### DEFINE TRAINING AND TESTING SETS"
   ]
  },
  {
   "cell_type": "code",
   "execution_count": 4,
   "metadata": {},
   "outputs": [],
   "source": [
    "# split data into training and testing sets\n",
    "train_data = data[:70]   # 70%\n",
    "test_data = data[70:]    # 30%"
   ]
  }
 ],
 "metadata": {
  "kernelspec": {
   "display_name": "Python 3",
   "language": "python",
   "name": "python3"
  },
  "language_info": {
   "codemirror_mode": {
    "name": "ipython",
    "version": 3
   },
   "file_extension": ".py",
   "mimetype": "text/x-python",
   "name": "python",
   "nbconvert_exporter": "python",
   "pygments_lexer": "ipython3",
   "version": "3.6.4"
  }
 },
 "nbformat": 4,
 "nbformat_minor": 2
}
