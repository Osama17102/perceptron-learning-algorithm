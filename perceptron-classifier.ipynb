{
 "cells": [
  {
   "cell_type": "markdown",
   "metadata": {},
   "source": [
    "# PERCEPTRON"
   ]
  },
  {
   "cell_type": "markdown",
   "metadata": {},
   "source": [
    "##### LOAD THE DATA"
   ]
  },
  {
   "cell_type": "code",
   "execution_count": 1,
   "metadata": {},
   "outputs": [
    {
     "data": {
      "text/plain": [
       "array([[ 5.1,  3.5,  0. ],\n",
       "       [ 4.9,  3. ,  0. ],\n",
       "       [ 4.7,  3.2,  0. ],\n",
       "       [ 4.9,  3. ,  0. ],\n",
       "       [ 4.6,  3.1,  0. ],\n",
       "       [ 4.6,  3.1,  0. ],\n",
       "       [ 4.7,  3.2,  0. ],\n",
       "       [ 4.6,  3.4,  0. ],\n",
       "       [ 5.4,  3.9,  0. ],\n",
       "       [ 5. ,  3.6,  0. ],\n",
       "       [ 4.7,  3.2,  0. ],\n",
       "       [ 4.7,  3.2,  0. ],\n",
       "       [ 5.1,  3.5,  0. ],\n",
       "       [ 4.4,  2.9,  0. ],\n",
       "       [ 5. ,  3.4,  0. ],\n",
       "       [ 5.4,  3.7,  0. ],\n",
       "       [ 4.8,  3.4,  0. ],\n",
       "       [ 4.8,  3. ,  0. ],\n",
       "       [ 5.8,  4. ,  0. ],\n",
       "       [ 4.8,  3.4,  0. ],\n",
       "       [ 4.4,  2.9,  0. ],\n",
       "       [ 5.1,  3.5,  0. ],\n",
       "       [ 5.8,  4. ,  0. ],\n",
       "       [ 4.4,  2.9,  0. ],\n",
       "       [ 5.5,  2.3,  1. ],\n",
       "       [ 5.4,  3.9,  0. ],\n",
       "       [ 5.7,  3.8,  0. ],\n",
       "       [ 5.4,  3.9,  0. ],\n",
       "       [ 5.4,  3.9,  0. ],\n",
       "       [ 5.4,  3.9,  0. ],\n",
       "       [ 5.7,  4.4,  0. ],\n",
       "       [ 4.8,  3.4,  0. ],\n",
       "       [ 5.7,  2.8,  1. ],\n",
       "       [ 4.7,  3.2,  0. ],\n",
       "       [ 5.4,  3.7,  0. ],\n",
       "       [ 4.9,  3.1,  0. ],\n",
       "       [ 5.2,  2.7,  1. ],\n",
       "       [ 4.8,  3.4,  0. ],\n",
       "       [ 5.7,  2.8,  1. ],\n",
       "       [ 4.8,  3. ,  0. ],\n",
       "       [ 6.5,  2.8,  1. ],\n",
       "       [ 4.8,  3.4,  0. ],\n",
       "       [ 5.2,  2.7,  1. ],\n",
       "       [ 5.1,  3.5,  0. ],\n",
       "       [ 6.6,  2.9,  1. ],\n",
       "       [ 4.6,  3.4,  0. ],\n",
       "       [ 7. ,  3.2,  1. ],\n",
       "       [ 6.4,  3.2,  1. ],\n",
       "       [ 4.3,  3. ,  0. ],\n",
       "       [ 5.4,  3.9,  0. ],\n",
       "       [ 5.6,  2.5,  1. ],\n",
       "       [ 4.3,  3. ,  0. ],\n",
       "       [ 5.8,  4. ,  0. ],\n",
       "       [ 4.6,  3.4,  0. ],\n",
       "       [ 6.1,  2.8,  1. ],\n",
       "       [ 5.8,  2.7,  1. ],\n",
       "       [ 5.1,  3.3,  0. ],\n",
       "       [ 5. ,  3.6,  0. ],\n",
       "       [ 5.6,  2.9,  1. ],\n",
       "       [ 4.8,  3.1,  0. ],\n",
       "       [ 5. ,  3.4,  0. ],\n",
       "       [ 5.8,  2.7,  1. ],\n",
       "       [ 6.9,  3.1,  1. ],\n",
       "       [ 6.7,  3.1,  1. ],\n",
       "       [ 6.4,  3.2,  1. ],\n",
       "       [ 5.8,  4. ,  0. ],\n",
       "       [ 4.9,  3. ,  0. ],\n",
       "       [ 6.3,  3.3,  1. ],\n",
       "       [ 5.4,  3.4,  0. ],\n",
       "       [ 4.8,  3. ,  0. ],\n",
       "       [ 5.6,  3. ,  1. ],\n",
       "       [ 5.1,  3.3,  0. ],\n",
       "       [ 5.9,  3.2,  1. ],\n",
       "       [ 5.1,  3.8,  0. ],\n",
       "       [ 4.3,  3. ,  0. ],\n",
       "       [ 5.1,  3.8,  0. ],\n",
       "       [ 5.2,  2.7,  1. ],\n",
       "       [ 5. ,  3.2,  0. ],\n",
       "       [ 5.2,  3.5,  0. ],\n",
       "       [ 5. ,  3.6,  0. ],\n",
       "       [ 5.6,  3. ,  1. ],\n",
       "       [ 5.5,  4.2,  0. ],\n",
       "       [ 5. ,  3.5,  0. ],\n",
       "       [ 6.1,  2.8,  1. ],\n",
       "       [ 6.5,  2.8,  1. ],\n",
       "       [ 5.1,  3.5,  0. ],\n",
       "       [ 6. ,  2.2,  1. ],\n",
       "       [ 5.2,  3.4,  0. ],\n",
       "       [ 4.9,  3.1,  0. ],\n",
       "       [ 4.4,  3.2,  0. ],\n",
       "       [ 6.3,  3.3,  1. ],\n",
       "       [ 4.6,  3.2,  0. ],\n",
       "       [ 4.6,  3.1,  0. ],\n",
       "       [ 5.1,  3.5,  0. ],\n",
       "       [ 5.1,  3.8,  0. ],\n",
       "       [ 4.9,  3. ,  0. ],\n",
       "       [ 5. ,  2. ,  1. ],\n",
       "       [ 5.2,  2.7,  1. ]])"
      ]
     },
     "execution_count": 1,
     "metadata": {},
     "output_type": "execute_result"
    }
   ],
   "source": [
    "import numpy as np\n",
    "\n",
    "# each row contains Sepal length in cm, Sepal width in nm and type (0|1)\n",
    "# 0: Iris-setosa | 1: Iris-versicolor\n",
    "data = np.loadtxt('iris-data.csv', delimiter=',')\n",
    "data"
   ]
  },
  {
   "cell_type": "markdown",
   "metadata": {},
   "source": [
    "##### VISUALIZE THE DATA\n",
    "It is a good idea to visualize the data so we can confirm that the data is linearly separable."
   ]
  },
  {
   "cell_type": "code",
   "execution_count": 2,
   "metadata": {},
   "outputs": [
    {
     "data": {
      "image/png": "[encoded data removed]",
      "text/plain": [
       "<matplotlib.figure.Figure at 0x23ce4b29b38>"
      ]
     },
     "metadata": {},
     "output_type": "display_data"
    }
   ],
   "source": [
    "%matplotlib inline\n",
    "import matplotlib.pyplot as plt\n",
    "\n",
    "plt.grid()\n",
    "\n",
    "for i in range(len(data)) :\n",
    "    point = data[i]\n",
    "    if point[2] == 0 :\n",
    "        color = 'r'  # setosas will appear in blue\n",
    "    else:\n",
    "        color = 'b'  # versicolor will appear in red\n",
    "    \n",
    "    plt.scatter(point[0], point[1], c=color);"
   ]
  },
  {
   "cell_type": "code",
   "execution_count": 3,
   "metadata": {},
   "outputs": [
    {
     "data": {
      "text/html": [
       "<img src=\"https://farm9.staticflickr.com/8383/8675226902_e72273713f_k.jpg\" width=\"350\" height=\"350\"/>"
      ],
      "text/plain": [
       "<IPython.core.display.Image object>"
      ]
     },
     "execution_count": 3,
     "metadata": {},
     "output_type": "execute_result"
    }
   ],
   "source": [
    "from IPython.display import Image\n",
    "from IPython.core.display import HTML \n",
    "\n",
    "Image(url= 'https://farm9.staticflickr.com/8383/8675226902_e72273713f_k.jpg', width=350, height=350)"
   ]
  },
  {
   "cell_type": "markdown",
   "metadata": {},
   "source": [
    "##### DEFINE TRAINING AND TESTING SETS"
   ]
  },
  {
   "cell_type": "code",
   "execution_count": 4,
   "metadata": {},
   "outputs": [],
   "source": [
    "# split data into training and testing sets\n",
    "train_data = data[:70]   # 70%\n",
    "test_data = data[70:]    # 30%"
   ]
  },
  {
   "cell_type": "code",
   "execution_count": 5,
   "metadata": {},
   "outputs": [
    {
     "data": {
      "text/plain": [
       "(68, 2)"
      ]
     },
     "execution_count": 5,
     "metadata": {},
     "output_type": "execute_result"
    }
   ],
   "source": [
    "from sklearn.model_selection import train_test_split\n",
    "\n",
    "target = data[:, -1]\n",
    "data = data[:, :-1]\n",
    "\n",
    "X_train, X_test, y_train, y_test = train_test_split(\n",
    "    data, target, test_size=0.30, random_state=42)\n",
    "\n",
    "X_train.shape"
   ]
  },
  {
   "cell_type": "markdown",
   "metadata": {},
   "source": [
    "##### DEFINE THRESHOLD FUNCTION AND ITS DERIVATIVE"
   ]
  },
  {
   "cell_type": "code",
   "execution_count": 6,
   "metadata": {},
   "outputs": [
    {
     "data": {
      "image/png": "[encoded data removed]",
      "text/plain": [
       "<matplotlib.figure.Figure at 0x23ce64f2a90>"
      ]
     },
     "metadata": {},
     "output_type": "display_data"
    }
   ],
   "source": [
    "def sigmoid(x) :\n",
    "    return 1/(1 + np.exp(-x))\n",
    "\n",
    "def sigmoid_p(x) :\n",
    "    return sigmoid(x) * (1-sigmoid(x))\n",
    "\n",
    "lin = np.linspace(-10, 10, 100)\n",
    "plt.plot(lin, sigmoid(lin), c='r')\n",
    "plt.plot(lin, sigmoid_p(lin), c='b');"
   ]
  },
  {
   "cell_type": "markdown",
   "metadata": {},
   "source": [
    "##### TRAIN THE MODEL"
   ]
  },
  {
   "cell_type": "code",
   "execution_count": 7,
   "metadata": {},
   "outputs": [],
   "source": [
    "from sklearn.metrics import mean_squared_error\n",
    "\n",
    "class Perceptron(object):\n",
    "    def __init__(self, learning=0.1, n_epochs=20, random_state=47):\n",
    "        self.learning = learning\n",
    "        self.n_epochs = n_epochs\n",
    "    \n",
    "    def model(self, X):\n",
    "        logit = np.dot(X, self.w_) + self.b_\n",
    "        return sigmoid(logit)\n",
    "    \n",
    "    def fit(self, X, y):\n",
    "        # iniciate the weights and bias\n",
    "        self.w_ = np.random.uniform(0, 1, X.shape[1])\n",
    "        self.b_ = np.random.uniform(0, 1, 1)\n",
    "        \n",
    "        self.costList_ = []\n",
    "\n",
    "        for ep in range(self.n_epochs):\n",
    "            cost_epoch = 0\n",
    "            for xi, target in zip(X, y):\n",
    "                output = self.model(xi)\n",
    "                \n",
    "                # cost function\n",
    "                cost = np.square(target - output)\n",
    "                cost_epoch += float(cost/len(X))  # MSE\n",
    "                \n",
    "                update = self.learning * (target - output)\n",
    "                \n",
    "                self.w_ += update * xi\n",
    "                self.b_ += update\n",
    "                \n",
    "            self.costList_.append(cost_epoch)\n",
    "        return self\n",
    "\n",
    "    \n",
    "    def predict(self, X):\n",
    "        out = self.model(X)\n",
    "        out = np.round(out)\n",
    "        return 'Iris-Versicolor' if out else 'Iris-setosa'"
   ]
  },
  {
   "cell_type": "code",
   "execution_count": 8,
   "metadata": {},
   "outputs": [
    {
     "data": {
      "text/plain": [
       "[0.2757551865279159,\n",
       " 0.1720170481212632,\n",
       " 0.11086419874259093,\n",
       " 0.07866154687397284,\n",
       " 0.06205734480650503,\n",
       " 0.05227561433576241,\n",
       " 0.04571151203196971,\n",
       " 0.04087502762810813,\n",
       " 0.03708817536751082,\n",
       " 0.034004993608102815,\n",
       " 0.031428166842470295,\n",
       " 0.02923382136452455,\n",
       " 0.027338111814976265,\n",
       " 0.025681073728655236,\n",
       " 0.0242181212272816,\n",
       " 0.022915181972147067,\n",
       " 0.021745696925026033,\n",
       " 0.020688651059530737,\n",
       " 0.01972721622627974,\n",
       " 0.018847781062516087]"
      ]
     },
     "execution_count": 8,
     "metadata": {},
     "output_type": "execute_result"
    }
   ],
   "source": [
    "clf = Perceptron()\n",
    "clf.fit(X_train, y_train)\n",
    "clf.costList_"
   ]
  },
  {
   "cell_type": "markdown",
   "metadata": {},
   "source": [
    "##### VISUALIZE MODEL IMPROVEMENT"
   ]
  },
  {
   "cell_type": "code",
   "execution_count": 9,
   "metadata": {},
   "outputs": [
    {
     "data": {
      "image/png": "[encoded data removed]",
      "text/plain": [
       "<matplotlib.figure.Figure at 0x23ce6493048>"
      ]
     },
     "metadata": {},
     "output_type": "display_data"
    }
   ],
   "source": [
    "plt.plot(clf.costList_)\n",
    "plt.xlabel('epochs')\n",
    "plt.ylabel('MSE');\n",
    "plt.show()"
   ]
  },
  {
   "cell_type": "markdown",
   "metadata": {},
   "source": [
    "##### MAKE PREDICTIONS"
   ]
  },
  {
   "cell_type": "code",
   "execution_count": 10,
   "metadata": {},
   "outputs": [
    {
     "data": {
      "text/plain": [
       "'Iris-Versicolor'"
      ]
     },
     "execution_count": 10,
     "metadata": {},
     "output_type": "execute_result"
    }
   ],
   "source": [
    "try_me = [5.5,  2.3]\n",
    "clf.predict(try_me)"
   ]
  },
  {
   "cell_type": "code",
   "execution_count": null,
   "metadata": {},
   "outputs": [],
   "source": []
  }
 ],
 "metadata": {
  "kernelspec": {
   "display_name": "Python 3",
   "language": "python",
   "name": "python3"
  },
  "language_info": {
   "codemirror_mode": {
    "name": "ipython",
    "version": 3
   },
   "file_extension": ".py",
   "mimetype": "text/x-python",
   "name": "python",
   "nbconvert_exporter": "python",
   "pygments_lexer": "ipython3",
   "version": "3.6.4"
  }
 },
 "nbformat": 4,
 "nbformat_minor": 2
}
